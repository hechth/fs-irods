{
 "cells": [
  {
   "cell_type": "code",
   "execution_count": 10,
   "metadata": {},
   "outputs": [],
   "source": [
    "from irods.session import iRODSSession"
   ]
  },
  {
   "cell_type": "code",
   "execution_count": 11,
   "metadata": {},
   "outputs": [
    {
     "name": "stdout",
     "output_type": "stream",
     "text": [
      "(4, 3, 3)\n"
     ]
    }
   ],
   "source": [
    "session = iRODSSession(host=\"localhost\", port=1247, user=\"rods\", password=\"rods\", zone=\"tempZone\")\n",
    "print(session.server_version)"
   ]
  },
  {
   "cell_type": "code",
   "execution_count": 12,
   "metadata": {},
   "outputs": [],
   "source": [
    "session.get_irods_password()\n",
    "session.username\n",
    "account = session.configure()"
   ]
  },
  {
   "cell_type": "code",
   "execution_count": 4,
   "metadata": {},
   "outputs": [
    {
     "name": "stdout",
     "output_type": "stream",
     "text": [
      "rods\n"
     ]
    }
   ],
   "source": [
    "print(account.password)"
   ]
  },
  {
   "cell_type": "code",
   "execution_count": 13,
   "metadata": {},
   "outputs": [],
   "source": [
    "file = session.data_objects.open(\"/tempZone/existing_file.txt\", \"w\")\n",
    "file.write(\"test\".encode())\n",
    "file.close()"
   ]
  },
  {
   "cell_type": "code",
   "execution_count": 14,
   "metadata": {},
   "outputs": [
    {
     "name": "stdout",
     "output_type": "stream",
     "text": [
      "[b'test']\n"
     ]
    }
   ],
   "source": [
    "file = session.data_objects.open(\"/tempZone/existing_file.txt\", \"r\", allow_redirect=False)\n",
    "print(file.readlines())\n",
    "file.close()"
   ]
  },
  {
   "cell_type": "code",
   "execution_count": 15,
   "metadata": {},
   "outputs": [],
   "source": [
    "file.close()"
   ]
  },
  {
   "cell_type": "code",
   "execution_count": 16,
   "metadata": {},
   "outputs": [
    {
     "data": {
      "text/plain": [
       "<iRODSDataObject 10018 existing_file.txt>"
      ]
     },
     "execution_count": 16,
     "metadata": {},
     "output_type": "execute_result"
    }
   ],
   "source": [
    "session.data_objects.create(\"/tempZone/existing_file.txt\")"
   ]
  },
  {
   "cell_type": "code",
   "execution_count": 17,
   "metadata": {},
   "outputs": [
    {
     "data": {
      "text/plain": [
       "<iRODSCollection 10019 existing_collection>"
      ]
     },
     "execution_count": 17,
     "metadata": {},
     "output_type": "execute_result"
    }
   ],
   "source": [
    "session.collections.create(\"/tempZone/existing_collection\")"
   ]
  },
  {
   "cell_type": "code",
   "execution_count": 8,
   "metadata": {},
   "outputs": [
    {
     "data": {
      "text/plain": [
       "<iRODSDataObject 10325 existing_file.txt>"
      ]
     },
     "execution_count": 8,
     "metadata": {},
     "output_type": "execute_result"
    }
   ],
   "source": [
    "session.data_objects.create(\"/tempZone/existing_collection/existing_file.txt\")\n"
   ]
  },
  {
   "cell_type": "code",
   "execution_count": 4,
   "metadata": {},
   "outputs": [],
   "source": [
    "session.data_objects.unlink(\"/tempZone/test.txt\")"
   ]
  },
  {
   "cell_type": "code",
   "execution_count": null,
   "metadata": {},
   "outputs": [
    {
     "data": {
      "text/plain": [
       "<iRODSCollection 10024 b'testCollection'>"
      ]
     },
     "execution_count": 4,
     "metadata": {},
     "output_type": "execute_result"
    }
   ],
   "source": [
    "session.collections.create(\"/tempZone/testCollection\")"
   ]
  },
  {
   "cell_type": "code",
   "execution_count": null,
   "metadata": {},
   "outputs": [],
   "source": [
    "session.data_objects.unlink(\"/tempZone/foo.txt\")"
   ]
  },
  {
   "cell_type": "code",
   "execution_count": 11,
   "metadata": {},
   "outputs": [],
   "source": [
    "session.collections.remove(\"/tempZone/foo/bar\")\n",
    "session.collections.remove(\"/tempZone/foo\")"
   ]
  },
  {
   "cell_type": "code",
   "execution_count": 10,
   "metadata": {},
   "outputs": [
    {
     "ename": "CAT_NO_ROWS_FOUND",
     "evalue": "None",
     "output_type": "error",
     "traceback": [
      "\u001b[0;31m---------------------------------------------------------------------------\u001b[0m",
      "\u001b[0;31mCAT_NO_ROWS_FOUND\u001b[0m                         Traceback (most recent call last)",
      "\u001b[1;32m/home/hechth/git/hechth/fs-irods/tests/irods_session_testing.ipynb Cell 10\u001b[0m line \u001b[0;36m1\n\u001b[0;32m----> <a href='vscode-notebook-cell://ssh-remote%2Babiff.ics.muni.cz/home/hechth/git/hechth/fs-irods/tests/irods_session_testing.ipynb#X15sdnNjb2RlLXJlbW90ZQ%3D%3D?line=0'>1</a>\u001b[0m session\u001b[39m.\u001b[39;49mcollections\u001b[39m.\u001b[39;49mremove(\u001b[39m\"\u001b[39;49m\u001b[39m/tempZone/test\u001b[39;49m\u001b[39m\"\u001b[39;49m)\n",
      "File \u001b[0;32m/m2b/home/hechth/micromamba/envs/fs-irods/lib/python3.12/site-packages/irods/manager/collection_manager.py:70\u001b[0m, in \u001b[0;36mCollectionManager.remove\u001b[0;34m(self, path, recurse, force, **options)\u001b[0m\n\u001b[1;32m     68\u001b[0m \u001b[39mwith\u001b[39;00m \u001b[39mself\u001b[39m\u001b[39m.\u001b[39msess\u001b[39m.\u001b[39mpool\u001b[39m.\u001b[39mget_connection() \u001b[39mas\u001b[39;00m conn:\n\u001b[1;32m     69\u001b[0m     conn\u001b[39m.\u001b[39msend(message)\n\u001b[0;32m---> 70\u001b[0m     response \u001b[39m=\u001b[39m conn\u001b[39m.\u001b[39;49mrecv()\n\u001b[1;32m     72\u001b[0m     \u001b[39mwhile\u001b[39;00m response\u001b[39m.\u001b[39mint_info \u001b[39m==\u001b[39m SYS_SVR_TO_CLI_COLL_STAT:\n\u001b[1;32m     73\u001b[0m         conn\u001b[39m.\u001b[39mreply(SYS_CLI_TO_SVR_COLL_STAT_REPLY)\n",
      "File \u001b[0;32m/m2b/home/hechth/micromamba/envs/fs-irods/lib/python3.12/site-packages/irods/connection.py:132\u001b[0m, in \u001b[0;36mConnection.recv\u001b[0;34m(self, into_buffer, return_message, acceptable_errors)\u001b[0m\n\u001b[1;32m    130\u001b[0m         err_msg \u001b[39m=\u001b[39m \u001b[39mNone\u001b[39;00m\n\u001b[1;32m    131\u001b[0m     \u001b[39mif\u001b[39;00m nominal_code(msg\u001b[39m.\u001b[39mint_info) \u001b[39mnot\u001b[39;00m \u001b[39min\u001b[39;00m acceptable_codes:\n\u001b[0;32m--> 132\u001b[0m         \u001b[39mraise\u001b[39;00m get_exception_by_code(msg\u001b[39m.\u001b[39mint_info, err_msg)\n\u001b[1;32m    133\u001b[0m \u001b[39mreturn\u001b[39;00m msg\n",
      "\u001b[0;31mCAT_NO_ROWS_FOUND\u001b[0m: None"
     ]
    }
   ],
   "source": [
    "session.collections.remove(\"/tempZone/test\")"
   ]
  },
  {
   "cell_type": "code",
   "execution_count": 18,
   "metadata": {},
   "outputs": [
    {
     "ename": "CAT_NO_ROWS_FOUND",
     "evalue": "None",
     "output_type": "error",
     "traceback": [
      "\u001b[0;31m---------------------------------------------------------------------------\u001b[0m",
      "\u001b[0;31mCAT_NO_ROWS_FOUND\u001b[0m                         Traceback (most recent call last)",
      "Cell \u001b[0;32mIn[18], line 1\u001b[0m\n\u001b[0;32m----> 1\u001b[0m \u001b[43msession\u001b[49m\u001b[38;5;241;43m.\u001b[39;49m\u001b[43mcollections\u001b[49m\u001b[38;5;241;43m.\u001b[39;49m\u001b[43mremove\u001b[49m\u001b[43m(\u001b[49m\u001b[38;5;124;43m\"\u001b[39;49m\u001b[38;5;124;43m/tempZone/home/subcollection\u001b[39;49m\u001b[38;5;124;43m\"\u001b[39;49m\u001b[43m)\u001b[49m\n",
      "File \u001b[0;32m~/micromamba/envs/fs-irods/lib/python3.13/site-packages/irods/manager/collection_manager.py:74\u001b[0m, in \u001b[0;36mCollectionManager.remove\u001b[0;34m(self, path, recurse, force, **options)\u001b[0m\n\u001b[1;32m     72\u001b[0m \u001b[38;5;28;01mwith\u001b[39;00m \u001b[38;5;28mself\u001b[39m\u001b[38;5;241m.\u001b[39msess\u001b[38;5;241m.\u001b[39mpool\u001b[38;5;241m.\u001b[39mget_connection() \u001b[38;5;28;01mas\u001b[39;00m conn:\n\u001b[1;32m     73\u001b[0m     conn\u001b[38;5;241m.\u001b[39msend(message)\n\u001b[0;32m---> 74\u001b[0m     response \u001b[38;5;241m=\u001b[39m \u001b[43mconn\u001b[49m\u001b[38;5;241;43m.\u001b[39;49m\u001b[43mrecv\u001b[49m\u001b[43m(\u001b[49m\u001b[43m)\u001b[49m\n\u001b[1;32m     76\u001b[0m     \u001b[38;5;28;01mwhile\u001b[39;00m response\u001b[38;5;241m.\u001b[39mint_info \u001b[38;5;241m==\u001b[39m SYS_SVR_TO_CLI_COLL_STAT:\n\u001b[1;32m     77\u001b[0m         conn\u001b[38;5;241m.\u001b[39mreply(SYS_CLI_TO_SVR_COLL_STAT_REPLY)\n",
      "File \u001b[0;32m~/micromamba/envs/fs-irods/lib/python3.13/site-packages/irods/connection.py:181\u001b[0m, in \u001b[0;36mConnection.recv\u001b[0;34m(self, into_buffer, return_message, acceptable_errors)\u001b[0m\n\u001b[1;32m    179\u001b[0m         exc \u001b[38;5;241m=\u001b[39m get_exception_by_code(msg\u001b[38;5;241m.\u001b[39mint_info, err_msg)\n\u001b[1;32m    180\u001b[0m         exc\u001b[38;5;241m.\u001b[39mserver_msg \u001b[38;5;241m=\u001b[39m msg\n\u001b[0;32m--> 181\u001b[0m         \u001b[38;5;28;01mraise\u001b[39;00m exc\n\u001b[1;32m    182\u001b[0m \u001b[38;5;28;01mreturn\u001b[39;00m msg\n",
      "\u001b[0;31mCAT_NO_ROWS_FOUND\u001b[0m: None"
     ]
    }
   ],
   "source": [
    "session.collections.remove(\"/tempZone/home/subcollection\")"
   ]
  },
  {
   "cell_type": "code",
   "execution_count": null,
   "metadata": {},
   "outputs": [
    {
     "ename": "CAT_COLLECTION_NOT_EMPTY",
     "evalue": "None",
     "output_type": "error",
     "traceback": [
      "\u001b[0;31m---------------------------------------------------------------------------\u001b[0m",
      "\u001b[0;31mCAT_COLLECTION_NOT_EMPTY\u001b[0m                  Traceback (most recent call last)",
      "\u001b[1;32m/home/hechth/git/hechth/fs-irods/tests/irods_session_testing.ipynb Cell 7\u001b[0m line \u001b[0;36m1\n\u001b[0;32m----> <a href='vscode-notebook-cell://ssh-remote%2Babiff.ics.muni.cz/home/hechth/git/hechth/fs-irods/tests/irods_session_testing.ipynb#X10sdnNjb2RlLXJlbW90ZQ%3D%3D?line=0'>1</a>\u001b[0m session\u001b[39m.\u001b[39;49mcollections\u001b[39m.\u001b[39;49mremove(\u001b[39m\"\u001b[39;49m\u001b[39m/tempZone\u001b[39;49m\u001b[39m\"\u001b[39;49m, recurse\u001b[39m=\u001b[39;49m\u001b[39mTrue\u001b[39;49;00m, force\u001b[39m=\u001b[39;49m\u001b[39mTrue\u001b[39;49;00m)\n",
      "File \u001b[0;32m/m2b/home/hechth/micromamba/envs/fs-irods/lib/python3.12/site-packages/irods/manager/collection_manager.py:70\u001b[0m, in \u001b[0;36mCollectionManager.remove\u001b[0;34m(self, path, recurse, force, **options)\u001b[0m\n\u001b[1;32m     68\u001b[0m \u001b[39mwith\u001b[39;00m \u001b[39mself\u001b[39m\u001b[39m.\u001b[39msess\u001b[39m.\u001b[39mpool\u001b[39m.\u001b[39mget_connection() \u001b[39mas\u001b[39;00m conn:\n\u001b[1;32m     69\u001b[0m     conn\u001b[39m.\u001b[39msend(message)\n\u001b[0;32m---> 70\u001b[0m     response \u001b[39m=\u001b[39m conn\u001b[39m.\u001b[39;49mrecv()\n\u001b[1;32m     72\u001b[0m     \u001b[39mwhile\u001b[39;00m response\u001b[39m.\u001b[39mint_info \u001b[39m==\u001b[39m SYS_SVR_TO_CLI_COLL_STAT:\n\u001b[1;32m     73\u001b[0m         conn\u001b[39m.\u001b[39mreply(SYS_CLI_TO_SVR_COLL_STAT_REPLY)\n",
      "File \u001b[0;32m/m2b/home/hechth/micromamba/envs/fs-irods/lib/python3.12/site-packages/irods/connection.py:132\u001b[0m, in \u001b[0;36mConnection.recv\u001b[0;34m(self, into_buffer, return_message, acceptable_errors)\u001b[0m\n\u001b[1;32m    130\u001b[0m         err_msg \u001b[39m=\u001b[39m \u001b[39mNone\u001b[39;00m\n\u001b[1;32m    131\u001b[0m     \u001b[39mif\u001b[39;00m nominal_code(msg\u001b[39m.\u001b[39mint_info) \u001b[39mnot\u001b[39;00m \u001b[39min\u001b[39;00m acceptable_codes:\n\u001b[0;32m--> 132\u001b[0m         \u001b[39mraise\u001b[39;00m get_exception_by_code(msg\u001b[39m.\u001b[39mint_info, err_msg)\n\u001b[1;32m    133\u001b[0m \u001b[39mreturn\u001b[39;00m msg\n",
      "\u001b[0;31mCAT_COLLECTION_NOT_EMPTY\u001b[0m: None"
     ]
    }
   ],
   "source": [
    "session.collections.remove(\"/tempZone\", recurse=True, force=True)"
   ]
  },
  {
   "cell_type": "code",
   "execution_count": null,
   "metadata": {},
   "outputs": [
    {
     "ename": "CAT_NO_ROWS_FOUND",
     "evalue": "None",
     "output_type": "error",
     "traceback": [
      "\u001b[0;31m---------------------------------------------------------------------------\u001b[0m",
      "\u001b[0;31mCAT_NO_ROWS_FOUND\u001b[0m                         Traceback (most recent call last)",
      "\u001b[1;32m/home/hechth/git/hechth/fs-irods/tests/irods_session_testing.ipynb Cell 7\u001b[0m line \u001b[0;36m1\n\u001b[0;32m----> <a href='vscode-notebook-cell://ssh-remote%2Babiff.ics.muni.cz/home/hechth/git/hechth/fs-irods/tests/irods_session_testing.ipynb#W6sdnNjb2RlLXJlbW90ZQ%3D%3D?line=0'>1</a>\u001b[0m session\u001b[39m.\u001b[39;49mcollections\u001b[39m.\u001b[39;49mremove(\u001b[39m\"\u001b[39;49m\u001b[39m/tempZone/test\u001b[39;49m\u001b[39m\"\u001b[39;49m)\n",
      "File \u001b[0;32m/m2b/home/hechth/micromamba/envs/fs-irods/lib/python3.12/site-packages/irods/manager/collection_manager.py:70\u001b[0m, in \u001b[0;36mCollectionManager.remove\u001b[0;34m(self, path, recurse, force, **options)\u001b[0m\n\u001b[1;32m     68\u001b[0m \u001b[39mwith\u001b[39;00m \u001b[39mself\u001b[39m\u001b[39m.\u001b[39msess\u001b[39m.\u001b[39mpool\u001b[39m.\u001b[39mget_connection() \u001b[39mas\u001b[39;00m conn:\n\u001b[1;32m     69\u001b[0m     conn\u001b[39m.\u001b[39msend(message)\n\u001b[0;32m---> 70\u001b[0m     response \u001b[39m=\u001b[39m conn\u001b[39m.\u001b[39;49mrecv()\n\u001b[1;32m     72\u001b[0m     \u001b[39mwhile\u001b[39;00m response\u001b[39m.\u001b[39mint_info \u001b[39m==\u001b[39m SYS_SVR_TO_CLI_COLL_STAT:\n\u001b[1;32m     73\u001b[0m         conn\u001b[39m.\u001b[39mreply(SYS_CLI_TO_SVR_COLL_STAT_REPLY)\n",
      "File \u001b[0;32m/m2b/home/hechth/micromamba/envs/fs-irods/lib/python3.12/site-packages/irods/connection.py:132\u001b[0m, in \u001b[0;36mConnection.recv\u001b[0;34m(self, into_buffer, return_message, acceptable_errors)\u001b[0m\n\u001b[1;32m    130\u001b[0m         err_msg \u001b[39m=\u001b[39m \u001b[39mNone\u001b[39;00m\n\u001b[1;32m    131\u001b[0m     \u001b[39mif\u001b[39;00m nominal_code(msg\u001b[39m.\u001b[39mint_info) \u001b[39mnot\u001b[39;00m \u001b[39min\u001b[39;00m acceptable_codes:\n\u001b[0;32m--> 132\u001b[0m         \u001b[39mraise\u001b[39;00m get_exception_by_code(msg\u001b[39m.\u001b[39mint_info, err_msg)\n\u001b[1;32m    133\u001b[0m \u001b[39mreturn\u001b[39;00m msg\n",
      "\u001b[0;31mCAT_NO_ROWS_FOUND\u001b[0m: None"
     ]
    }
   ],
   "source": [
    "session.collections.remove(\"/tempZone/test\")"
   ]
  }
 ],
 "metadata": {
  "kernelspec": {
   "display_name": "Python 3",
   "language": "python",
   "name": "python3"
  },
  "language_info": {
   "codemirror_mode": {
    "name": "ipython",
    "version": 3
   },
   "file_extension": ".py",
   "mimetype": "text/x-python",
   "name": "python",
   "nbconvert_exporter": "python",
   "pygments_lexer": "ipython3",
   "version": "3.13.1"
  }
 },
 "nbformat": 4,
 "nbformat_minor": 2
}
